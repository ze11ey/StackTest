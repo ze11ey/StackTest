{
  "nbformat": 4,
  "nbformat_minor": 0,
  "metadata": {
    "colab": {
      "provenance": [],
      "authorship_tag": "ABX9TyO47nIJ+LO8Z423K+JtmypB",
      "include_colab_link": true
    },
    "kernelspec": {
      "name": "python3",
      "display_name": "Python 3"
    },
    "language_info": {
      "name": "python"
    }
  },
  "cells": [
    {
      "cell_type": "markdown",
      "metadata": {
        "id": "view-in-github",
        "colab_type": "text"
      },
      "source": [
        "<a href=\"https://colab.research.google.com/github/ze11ey/StackTest/blob/main/Untitled0.ipynb\" target=\"_parent\"><img src=\"https://colab.research.google.com/assets/colab-badge.svg\" alt=\"Open In Colab\"/></a>"
      ]
    },
    {
      "cell_type": "code",
      "execution_count": 1,
      "metadata": {
        "colab": {
          "base_uri": "https://localhost:8080/"
        },
        "id": "sDg244opsMey",
        "outputId": "ee9ae4b1-eb77-4231-e8e0-b07a10989f13"
      },
      "outputs": [
        {
          "output_type": "stream",
          "name": "stdout",
          "text": [
            "Drive already mounted at /content/drive; to attempt to forcibly remount, call drive.mount(\"/content/drive\", force_remount=True).\n"
          ]
        }
      ],
      "source": [
        "from google.colab import drive\n",
        "drive.mount('/content/drive')\n"
      ]
    },
    {
      "cell_type": "code",
      "source": [
        "ROOT = \"/content/drive/MyDrive/Sneaker-Heat-Dataset/Sneaker‑Heat-500\"\n",
        "\n",
        "import os, glob\n",
        "print(\"Files under ROOT:\", os.listdir(ROOT))\n",
        "print(\"Output folder OK?:\", os.path.isdir(f\"{ROOT}/output\"))\n"
      ],
      "metadata": {
        "colab": {
          "base_uri": "https://localhost:8080/"
        },
        "id": "FASOq2ywsbnp",
        "outputId": "0d81d79d-8ff8-4eca-cf9b-499dd34c390c"
      },
      "execution_count": 2,
      "outputs": [
        {
          "output_type": "stream",
          "name": "stdout",
          "text": [
            "Files under ROOT: ['output', 'grail_whitelist.yaml', 'secrets.env', 'Untitled0.ipynb']\n",
            "Output folder OK?: True\n"
          ]
        }
      ]
    },
    {
      "cell_type": "code",
      "source": [
        "!pip -q install python-dotenv\n",
        "from dotenv import load_dotenv\n",
        "import os\n",
        "\n",
        "load_dotenv(f\"{ROOT}/secrets.env\", override=True)\n",
        "\n",
        "print(\"RAPIDAPI_KEY present? \", bool(os.getenv(\"RAPIDAPI_KEY\")))\n",
        "print(\"REDDIT_CLIENT_ID present?\", bool(os.getenv(\"REDDIT_CLIENT_ID\")))\n",
        "print(\"REDDIT_SECRET present?   \", bool(os.getenv(\"REDDIT_SECRET\")))\n"
      ],
      "metadata": {
        "colab": {
          "base_uri": "https://localhost:8080/"
        },
        "id": "lk-7IZeO0XhC",
        "outputId": "17c16e48-caa2-481e-89cf-083a2573be4d"
      },
      "execution_count": 3,
      "outputs": [
        {
          "output_type": "stream",
          "name": "stdout",
          "text": [
            "RAPIDAPI_KEY present?  True\n",
            "REDDIT_CLIENT_ID present? True\n",
            "REDDIT_SECRET present?    True\n"
          ]
        }
      ]
    },
    {
      "cell_type": "code",
      "source": [
        "!pip -q install pyyaml\n",
        "import yaml, pprint\n",
        "\n",
        "with open(f\"{ROOT}/grail_whitelist.yaml\") as f:\n",
        "    grails = yaml.safe_load(f)\n",
        "\n",
        "print(\"Loaded\", len(grails), \"grails:\")\n",
        "pprint.pprint(grails[:5])\n"
      ],
      "metadata": {
        "colab": {
          "base_uri": "https://localhost:8080/"
        },
        "id": "Me_SEYij0-m-",
        "outputId": "4ca572d0-f89c-4105-e0a2-654e5ef5426c"
      },
      "execution_count": 4,
      "outputs": [
        {
          "output_type": "stream",
          "name": "stdout",
          "text": [
            "Loaded 25 grails:\n",
            "['Louis Vuitton x Nike Air Force 1 Low “Virgil Abloh” (2022)',\n",
            " 'Nike MAG “Back to the Future” (2011/2016)',\n",
            " 'Nike SB Dunk Low “Paris” (2003)',\n",
            " 'Air Jordan 1 “Solid Silver” (1995)',\n",
            " 'Nike Dunk High “Wu-Tang” F&F (1999)']\n"
          ]
        }
      ]
    },
    {
      "cell_type": "code",
      "source": [
        "# ------------- 3‑A · pull StockX top list -------------------\n",
        "import requests, pandas as pd, time\n",
        "\n",
        "def stockx_top(limit=2000):\n",
        "    host = \"stockx-api.p.rapidapi.com\"\n",
        "    url  = f\"https://{host}/stockx/products\"\n",
        "    rows, page, per = [], 1, 100\n",
        "    while len(rows) < limit:\n",
        "        r = requests.get(\n",
        "                url,\n",
        "                headers={\"X-RapidAPI-Key\": os.getenv(\"RAPIDAPI_KEY\"),\n",
        "                         \"X-RapidAPI-Host\": host},\n",
        "                params={\"page\": page,\n",
        "                        \"resultsPerPage\": per,\n",
        "                        \"sort\": \"market_value\",\n",
        "                        \"order\": \"DESC\"},\n",
        "                timeout=20,\n",
        "             ).json().get(\"data\", [])\n",
        "        if not r:\n",
        "            break\n",
        "        rows.extend(r)\n",
        "        page += 1\n",
        "        time.sleep(0.25)\n",
        "    return pd.DataFrame(rows)\n",
        "\n",
        "stockx_df = stockx_top()\n",
        "print(\"Pulled rows:\", len(stockx_df))\n",
        "# preview with the correct field names the API returns\n",
        "print(stockx_df[['title', 'slug', 'avg_price', 'weekly_orders']].head())\n"
      ],
      "metadata": {
        "colab": {
          "base_uri": "https://localhost:8080/"
        },
        "id": "LgucR2ay2EI1",
        "outputId": "e1a5f9c6-21bb-43d6-91ad-a65889e2c7fc"
      },
      "execution_count": 5,
      "outputs": [
        {
          "output_type": "stream",
          "name": "stdout",
          "text": [
            "Pulled rows: 1000\n",
            "                                               title  \\\n",
            "0                   Jordan 3 Retro Pure Money (2025)   \n",
            "1                     Nike Air Max 95 OG Levis Black   \n",
            "2  Jordan 1 Retro High OG Shattered Backboard (2025)   \n",
            "3                  Nike Air Max 95 OG Levis Obsidian   \n",
            "4                    Nike Kobe 6 Protro Total Orange   \n",
            "\n",
            "                                                slug   avg_price  \\\n",
            "0                 air-jordan-3-retro-pure-money-2025  216.250000   \n",
            "1                     nike-air-max-95-og-levis-black  299.818182   \n",
            "2  air-jordan-1-retro-high-og-shattered-backboard...  271.543478   \n",
            "3                  nike-air-max-95-og-levis-obsidian  533.461538   \n",
            "4                            nike-kobe-6-protro-wnba  335.148148   \n",
            "\n",
            "   weekly_orders  \n",
            "0            803  \n",
            "1            475  \n",
            "2            407  \n",
            "3            390  \n",
            "4            311  \n"
          ]
        }
      ]
    },
    {
      "cell_type": "code",
      "source": [
        "# ------------- 3‑B · tidy StockX data -----------------\n",
        "keep_cols = {\n",
        "    \"title\":          \"title\",\n",
        "    \"slug\":           \"urlKey\",\n",
        "    \"avg_price\":      \"market_value\",   # already in dollars\n",
        "    \"weekly_orders\":  \"weekly_orders\",\n",
        "}\n",
        "\n",
        "stockx_df_clean = (stockx_df[list(keep_cols)]\n",
        "                     .rename(columns=keep_cols))\n",
        "\n",
        "# msrp unavailable here → set NaN so later merge won’t fail\n",
        "import numpy as np, pandas as pd\n",
        "stockx_df_clean[\"msrp\"] = np.nan\n",
        "\n",
        "print(stockx_df_clean.head())\n",
        "print(\"\\nColumns now:\", stockx_df_clean.columns.tolist())\n"
      ],
      "metadata": {
        "colab": {
          "base_uri": "https://localhost:8080/"
        },
        "id": "olYolcV87zQl",
        "outputId": "c6f0e2bc-24e7-4993-f366-ed482b0d66ee"
      },
      "execution_count": 6,
      "outputs": [
        {
          "output_type": "stream",
          "name": "stdout",
          "text": [
            "                                               title  \\\n",
            "0                   Jordan 3 Retro Pure Money (2025)   \n",
            "1                     Nike Air Max 95 OG Levis Black   \n",
            "2  Jordan 1 Retro High OG Shattered Backboard (2025)   \n",
            "3                  Nike Air Max 95 OG Levis Obsidian   \n",
            "4                    Nike Kobe 6 Protro Total Orange   \n",
            "\n",
            "                                              urlKey  market_value  \\\n",
            "0                 air-jordan-3-retro-pure-money-2025    216.250000   \n",
            "1                     nike-air-max-95-og-levis-black    299.818182   \n",
            "2  air-jordan-1-retro-high-og-shattered-backboard...    271.543478   \n",
            "3                  nike-air-max-95-og-levis-obsidian    533.461538   \n",
            "4                            nike-kobe-6-protro-wnba    335.148148   \n",
            "\n",
            "   weekly_orders  msrp  \n",
            "0            803   NaN  \n",
            "1            475   NaN  \n",
            "2            407   NaN  \n",
            "3            390   NaN  \n",
            "4            311   NaN  \n",
            "\n",
            "Columns now: ['title', 'urlKey', 'market_value', 'weekly_orders', 'msrp']\n"
          ]
        }
      ]
    },
    {
      "cell_type": "code",
      "source": [
        "# ------------- 4‑A · coverage check -----------------\n",
        "def norm(t):                       # simple case‑fold for comparison\n",
        "    return str(t).strip().lower()\n",
        "\n",
        "stockx_titles = set(stockx_df_clean[\"title\"].map(norm))\n",
        "\n",
        "missing = [g for g in grails if norm(g) not in stockx_titles]\n",
        "print(f\"{len(missing)} grails NOT in StockX pull:\")\n",
        "for g in missing:\n",
        "    print(\" •\", g)\n"
      ],
      "metadata": {
        "colab": {
          "base_uri": "https://localhost:8080/"
        },
        "id": "Tz1kwYD2e83z",
        "outputId": "c6f94f76-d675-4f51-aef1-d91655a024de"
      },
      "execution_count": 7,
      "outputs": [
        {
          "output_type": "stream",
          "name": "stdout",
          "text": [
            "25 grails NOT in StockX pull:\n",
            " • Louis Vuitton x Nike Air Force 1 Low “Virgil Abloh” (2022)\n",
            " • Nike MAG “Back to the Future” (2011/2016)\n",
            " • Nike SB Dunk Low “Paris” (2003)\n",
            " • Air Jordan 1 “Solid Silver” (1995)\n",
            " • Nike Dunk High “Wu-Tang” F&F (1999)\n",
            " • UNDFTD x Air Jordan 4 “Undefeated” (2005)\n",
            " • Nike Air Yeezy 2 “Red October” (2014)\n",
            " • Air Jordan 11 “Jeter” (2017)\n",
            " • Concepts x Nike SB Dunk Low “Yellow Lobster” (2009)\n",
            " • Nike SB Dunk Low “Staple NYC Pigeon” (2005)\n",
            " • Eminem x Carhartt x Air Jordan 4 (2015)\n",
            " • Nike SB Dunk Low “What The Dunk” (2007)\n",
            " • Air Jordan 4 “Manila” (2020)\n",
            " • Cactus Plant Flea Market x Nike Dunk Low “Spiral Sage” (2020)\n",
            " • DJ Khaled x Air Jordan 3 “Grateful” (2017)\n",
            " • Air Jordan 1 High “Dior” (2020)\n",
            " • Travis Scott x PlayStation x Nike Dunk Low (2020)\n",
            " • Off-White x Air Jordan 1 “Chicago” (2017)\n",
            " • Chanel x Pharrell x Adidas NMD Hu (2017)\n",
            " • Nike Air Yeezy 1 “Grammy” Prototype (2008)\n",
            " • Nike SB Dunk Low “Freddy Krueger” Sample (2007)\n",
            " • Air Jordan 1 High “Colette” F&F (2017)\n",
            " • Nike Air Force 1 Low “PlayStation” (2006)\n",
            " • Nike SB Dunk Low “Heineken” (2003)\n",
            " • Travis Scott x Air Jordan 4 “Olive” Sample (2018)\n"
          ]
        }
      ]
    },
    {
      "cell_type": "code",
      "source": [
        "# create minimal rows for missing grails\n",
        "import pandas as pd, numpy as np\n",
        "\n",
        "extra_rows = pd.DataFrame({\n",
        "    \"title\":         missing,\n",
        "    \"urlKey\":        [np.nan]*len(missing),\n",
        "    \"market_value\":  [np.nan]*len(missing),\n",
        "    \"weekly_orders\": [np.nan]*len(missing),\n",
        "    \"msrp\":          [np.nan]*len(missing),\n",
        "})\n",
        "\n",
        "master_df = pd.concat([stockx_df_clean, extra_rows], ignore_index=True)\n",
        "print(\"Master size after merge:\", len(master_df))\n",
        "master_df.head()\n"
      ],
      "metadata": {
        "colab": {
          "base_uri": "https://localhost:8080/",
          "height": 224
        },
        "id": "JSYztPnrfiek",
        "outputId": "03255070-bcc1-4722-fad2-855299e29243"
      },
      "execution_count": 8,
      "outputs": [
        {
          "output_type": "stream",
          "name": "stdout",
          "text": [
            "Master size after merge: 1025\n"
          ]
        },
        {
          "output_type": "execute_result",
          "data": {
            "text/plain": [
              "                                               title  \\\n",
              "0                   Jordan 3 Retro Pure Money (2025)   \n",
              "1                     Nike Air Max 95 OG Levis Black   \n",
              "2  Jordan 1 Retro High OG Shattered Backboard (2025)   \n",
              "3                  Nike Air Max 95 OG Levis Obsidian   \n",
              "4                    Nike Kobe 6 Protro Total Orange   \n",
              "\n",
              "                                              urlKey  market_value  \\\n",
              "0                 air-jordan-3-retro-pure-money-2025    216.250000   \n",
              "1                     nike-air-max-95-og-levis-black    299.818182   \n",
              "2  air-jordan-1-retro-high-og-shattered-backboard...    271.543478   \n",
              "3                  nike-air-max-95-og-levis-obsidian    533.461538   \n",
              "4                            nike-kobe-6-protro-wnba    335.148148   \n",
              "\n",
              "   weekly_orders  msrp  \n",
              "0          803.0   NaN  \n",
              "1          475.0   NaN  \n",
              "2          407.0   NaN  \n",
              "3          390.0   NaN  \n",
              "4          311.0   NaN  "
            ],
            "text/html": [
              "\n",
              "  <div id=\"df-9c47c46e-6477-4837-b6da-f1bd2d788c4d\" class=\"colab-df-container\">\n",
              "    <div>\n",
              "<style scoped>\n",
              "    .dataframe tbody tr th:only-of-type {\n",
              "        vertical-align: middle;\n",
              "    }\n",
              "\n",
              "    .dataframe tbody tr th {\n",
              "        vertical-align: top;\n",
              "    }\n",
              "\n",
              "    .dataframe thead th {\n",
              "        text-align: right;\n",
              "    }\n",
              "</style>\n",
              "<table border=\"1\" class=\"dataframe\">\n",
              "  <thead>\n",
              "    <tr style=\"text-align: right;\">\n",
              "      <th></th>\n",
              "      <th>title</th>\n",
              "      <th>urlKey</th>\n",
              "      <th>market_value</th>\n",
              "      <th>weekly_orders</th>\n",
              "      <th>msrp</th>\n",
              "    </tr>\n",
              "  </thead>\n",
              "  <tbody>\n",
              "    <tr>\n",
              "      <th>0</th>\n",
              "      <td>Jordan 3 Retro Pure Money (2025)</td>\n",
              "      <td>air-jordan-3-retro-pure-money-2025</td>\n",
              "      <td>216.250000</td>\n",
              "      <td>803.0</td>\n",
              "      <td>NaN</td>\n",
              "    </tr>\n",
              "    <tr>\n",
              "      <th>1</th>\n",
              "      <td>Nike Air Max 95 OG Levis Black</td>\n",
              "      <td>nike-air-max-95-og-levis-black</td>\n",
              "      <td>299.818182</td>\n",
              "      <td>475.0</td>\n",
              "      <td>NaN</td>\n",
              "    </tr>\n",
              "    <tr>\n",
              "      <th>2</th>\n",
              "      <td>Jordan 1 Retro High OG Shattered Backboard (2025)</td>\n",
              "      <td>air-jordan-1-retro-high-og-shattered-backboard...</td>\n",
              "      <td>271.543478</td>\n",
              "      <td>407.0</td>\n",
              "      <td>NaN</td>\n",
              "    </tr>\n",
              "    <tr>\n",
              "      <th>3</th>\n",
              "      <td>Nike Air Max 95 OG Levis Obsidian</td>\n",
              "      <td>nike-air-max-95-og-levis-obsidian</td>\n",
              "      <td>533.461538</td>\n",
              "      <td>390.0</td>\n",
              "      <td>NaN</td>\n",
              "    </tr>\n",
              "    <tr>\n",
              "      <th>4</th>\n",
              "      <td>Nike Kobe 6 Protro Total Orange</td>\n",
              "      <td>nike-kobe-6-protro-wnba</td>\n",
              "      <td>335.148148</td>\n",
              "      <td>311.0</td>\n",
              "      <td>NaN</td>\n",
              "    </tr>\n",
              "  </tbody>\n",
              "</table>\n",
              "</div>\n",
              "    <div class=\"colab-df-buttons\">\n",
              "\n",
              "  <div class=\"colab-df-container\">\n",
              "    <button class=\"colab-df-convert\" onclick=\"convertToInteractive('df-9c47c46e-6477-4837-b6da-f1bd2d788c4d')\"\n",
              "            title=\"Convert this dataframe to an interactive table.\"\n",
              "            style=\"display:none;\">\n",
              "\n",
              "  <svg xmlns=\"http://www.w3.org/2000/svg\" height=\"24px\" viewBox=\"0 -960 960 960\">\n",
              "    <path d=\"M120-120v-720h720v720H120Zm60-500h600v-160H180v160Zm220 220h160v-160H400v160Zm0 220h160v-160H400v160ZM180-400h160v-160H180v160Zm440 0h160v-160H620v160ZM180-180h160v-160H180v160Zm440 0h160v-160H620v160Z\"/>\n",
              "  </svg>\n",
              "    </button>\n",
              "\n",
              "  <style>\n",
              "    .colab-df-container {\n",
              "      display:flex;\n",
              "      gap: 12px;\n",
              "    }\n",
              "\n",
              "    .colab-df-convert {\n",
              "      background-color: #E8F0FE;\n",
              "      border: none;\n",
              "      border-radius: 50%;\n",
              "      cursor: pointer;\n",
              "      display: none;\n",
              "      fill: #1967D2;\n",
              "      height: 32px;\n",
              "      padding: 0 0 0 0;\n",
              "      width: 32px;\n",
              "    }\n",
              "\n",
              "    .colab-df-convert:hover {\n",
              "      background-color: #E2EBFA;\n",
              "      box-shadow: 0px 1px 2px rgba(60, 64, 67, 0.3), 0px 1px 3px 1px rgba(60, 64, 67, 0.15);\n",
              "      fill: #174EA6;\n",
              "    }\n",
              "\n",
              "    .colab-df-buttons div {\n",
              "      margin-bottom: 4px;\n",
              "    }\n",
              "\n",
              "    [theme=dark] .colab-df-convert {\n",
              "      background-color: #3B4455;\n",
              "      fill: #D2E3FC;\n",
              "    }\n",
              "\n",
              "    [theme=dark] .colab-df-convert:hover {\n",
              "      background-color: #434B5C;\n",
              "      box-shadow: 0px 1px 3px 1px rgba(0, 0, 0, 0.15);\n",
              "      filter: drop-shadow(0px 1px 2px rgba(0, 0, 0, 0.3));\n",
              "      fill: #FFFFFF;\n",
              "    }\n",
              "  </style>\n",
              "\n",
              "    <script>\n",
              "      const buttonEl =\n",
              "        document.querySelector('#df-9c47c46e-6477-4837-b6da-f1bd2d788c4d button.colab-df-convert');\n",
              "      buttonEl.style.display =\n",
              "        google.colab.kernel.accessAllowed ? 'block' : 'none';\n",
              "\n",
              "      async function convertToInteractive(key) {\n",
              "        const element = document.querySelector('#df-9c47c46e-6477-4837-b6da-f1bd2d788c4d');\n",
              "        const dataTable =\n",
              "          await google.colab.kernel.invokeFunction('convertToInteractive',\n",
              "                                                    [key], {});\n",
              "        if (!dataTable) return;\n",
              "\n",
              "        const docLinkHtml = 'Like what you see? Visit the ' +\n",
              "          '<a target=\"_blank\" href=https://colab.research.google.com/notebooks/data_table.ipynb>data table notebook</a>'\n",
              "          + ' to learn more about interactive tables.';\n",
              "        element.innerHTML = '';\n",
              "        dataTable['output_type'] = 'display_data';\n",
              "        await google.colab.output.renderOutput(dataTable, element);\n",
              "        const docLink = document.createElement('div');\n",
              "        docLink.innerHTML = docLinkHtml;\n",
              "        element.appendChild(docLink);\n",
              "      }\n",
              "    </script>\n",
              "  </div>\n",
              "\n",
              "\n",
              "    <div id=\"df-ca8c7d5d-6811-4aba-857e-1056cc64ea33\">\n",
              "      <button class=\"colab-df-quickchart\" onclick=\"quickchart('df-ca8c7d5d-6811-4aba-857e-1056cc64ea33')\"\n",
              "                title=\"Suggest charts\"\n",
              "                style=\"display:none;\">\n",
              "\n",
              "<svg xmlns=\"http://www.w3.org/2000/svg\" height=\"24px\"viewBox=\"0 0 24 24\"\n",
              "     width=\"24px\">\n",
              "    <g>\n",
              "        <path d=\"M19 3H5c-1.1 0-2 .9-2 2v14c0 1.1.9 2 2 2h14c1.1 0 2-.9 2-2V5c0-1.1-.9-2-2-2zM9 17H7v-7h2v7zm4 0h-2V7h2v10zm4 0h-2v-4h2v4z\"/>\n",
              "    </g>\n",
              "</svg>\n",
              "      </button>\n",
              "\n",
              "<style>\n",
              "  .colab-df-quickchart {\n",
              "      --bg-color: #E8F0FE;\n",
              "      --fill-color: #1967D2;\n",
              "      --hover-bg-color: #E2EBFA;\n",
              "      --hover-fill-color: #174EA6;\n",
              "      --disabled-fill-color: #AAA;\n",
              "      --disabled-bg-color: #DDD;\n",
              "  }\n",
              "\n",
              "  [theme=dark] .colab-df-quickchart {\n",
              "      --bg-color: #3B4455;\n",
              "      --fill-color: #D2E3FC;\n",
              "      --hover-bg-color: #434B5C;\n",
              "      --hover-fill-color: #FFFFFF;\n",
              "      --disabled-bg-color: #3B4455;\n",
              "      --disabled-fill-color: #666;\n",
              "  }\n",
              "\n",
              "  .colab-df-quickchart {\n",
              "    background-color: var(--bg-color);\n",
              "    border: none;\n",
              "    border-radius: 50%;\n",
              "    cursor: pointer;\n",
              "    display: none;\n",
              "    fill: var(--fill-color);\n",
              "    height: 32px;\n",
              "    padding: 0;\n",
              "    width: 32px;\n",
              "  }\n",
              "\n",
              "  .colab-df-quickchart:hover {\n",
              "    background-color: var(--hover-bg-color);\n",
              "    box-shadow: 0 1px 2px rgba(60, 64, 67, 0.3), 0 1px 3px 1px rgba(60, 64, 67, 0.15);\n",
              "    fill: var(--button-hover-fill-color);\n",
              "  }\n",
              "\n",
              "  .colab-df-quickchart-complete:disabled,\n",
              "  .colab-df-quickchart-complete:disabled:hover {\n",
              "    background-color: var(--disabled-bg-color);\n",
              "    fill: var(--disabled-fill-color);\n",
              "    box-shadow: none;\n",
              "  }\n",
              "\n",
              "  .colab-df-spinner {\n",
              "    border: 2px solid var(--fill-color);\n",
              "    border-color: transparent;\n",
              "    border-bottom-color: var(--fill-color);\n",
              "    animation:\n",
              "      spin 1s steps(1) infinite;\n",
              "  }\n",
              "\n",
              "  @keyframes spin {\n",
              "    0% {\n",
              "      border-color: transparent;\n",
              "      border-bottom-color: var(--fill-color);\n",
              "      border-left-color: var(--fill-color);\n",
              "    }\n",
              "    20% {\n",
              "      border-color: transparent;\n",
              "      border-left-color: var(--fill-color);\n",
              "      border-top-color: var(--fill-color);\n",
              "    }\n",
              "    30% {\n",
              "      border-color: transparent;\n",
              "      border-left-color: var(--fill-color);\n",
              "      border-top-color: var(--fill-color);\n",
              "      border-right-color: var(--fill-color);\n",
              "    }\n",
              "    40% {\n",
              "      border-color: transparent;\n",
              "      border-right-color: var(--fill-color);\n",
              "      border-top-color: var(--fill-color);\n",
              "    }\n",
              "    60% {\n",
              "      border-color: transparent;\n",
              "      border-right-color: var(--fill-color);\n",
              "    }\n",
              "    80% {\n",
              "      border-color: transparent;\n",
              "      border-right-color: var(--fill-color);\n",
              "      border-bottom-color: var(--fill-color);\n",
              "    }\n",
              "    90% {\n",
              "      border-color: transparent;\n",
              "      border-bottom-color: var(--fill-color);\n",
              "    }\n",
              "  }\n",
              "</style>\n",
              "\n",
              "      <script>\n",
              "        async function quickchart(key) {\n",
              "          const quickchartButtonEl =\n",
              "            document.querySelector('#' + key + ' button');\n",
              "          quickchartButtonEl.disabled = true;  // To prevent multiple clicks.\n",
              "          quickchartButtonEl.classList.add('colab-df-spinner');\n",
              "          try {\n",
              "            const charts = await google.colab.kernel.invokeFunction(\n",
              "                'suggestCharts', [key], {});\n",
              "          } catch (error) {\n",
              "            console.error('Error during call to suggestCharts:', error);\n",
              "          }\n",
              "          quickchartButtonEl.classList.remove('colab-df-spinner');\n",
              "          quickchartButtonEl.classList.add('colab-df-quickchart-complete');\n",
              "        }\n",
              "        (() => {\n",
              "          let quickchartButtonEl =\n",
              "            document.querySelector('#df-ca8c7d5d-6811-4aba-857e-1056cc64ea33 button');\n",
              "          quickchartButtonEl.style.display =\n",
              "            google.colab.kernel.accessAllowed ? 'block' : 'none';\n",
              "        })();\n",
              "      </script>\n",
              "    </div>\n",
              "\n",
              "    </div>\n",
              "  </div>\n"
            ],
            "application/vnd.google.colaboratory.intrinsic+json": {
              "type": "dataframe",
              "variable_name": "master_df",
              "summary": "{\n  \"name\": \"master_df\",\n  \"rows\": 1025,\n  \"fields\": [\n    {\n      \"column\": \"title\",\n      \"properties\": {\n        \"dtype\": \"string\",\n        \"num_unique_values\": 1025,\n        \"samples\": [\n          \"adidas Samba OG Cream White Sand Strata (Women's)\",\n          \"Jordan 4 Retro Bred Reimagined\",\n          \"Jordan 1 Retro High OG Chicago Lost and Found\"\n        ],\n        \"semantic_type\": \"\",\n        \"description\": \"\"\n      }\n    },\n    {\n      \"column\": \"urlKey\",\n      \"properties\": {\n        \"dtype\": \"string\",\n        \"num_unique_values\": 1000,\n        \"samples\": [\n          \"nike-air-max-plus-og-hyper-blue\",\n          \"nike-zoom-vomero-5-photon-dust-metallic-silver-w\",\n          \"fear-of-god-essentials-t-shirt-ss22-dark-oatmeal\"\n        ],\n        \"semantic_type\": \"\",\n        \"description\": \"\"\n      }\n    },\n    {\n      \"column\": \"market_value\",\n      \"properties\": {\n        \"dtype\": \"number\",\n        \"std\": 249.20372061454577,\n        \"min\": 0.0,\n        \"max\": 6690.5,\n        \"num_unique_values\": 978,\n        \"samples\": [\n          163.0,\n          121.4,\n          131.0\n        ],\n        \"semantic_type\": \"\",\n        \"description\": \"\"\n      }\n    },\n    {\n      \"column\": \"weekly_orders\",\n      \"properties\": {\n        \"dtype\": \"number\",\n        \"std\": 42.23676435598795,\n        \"min\": 1.0,\n        \"max\": 803.0,\n        \"num_unique_values\": 73,\n        \"samples\": [\n          311.0,\n          7.0,\n          70.0\n        ],\n        \"semantic_type\": \"\",\n        \"description\": \"\"\n      }\n    },\n    {\n      \"column\": \"msrp\",\n      \"properties\": {\n        \"dtype\": \"number\",\n        \"std\": null,\n        \"min\": null,\n        \"max\": null,\n        \"num_unique_values\": 0,\n        \"samples\": [],\n        \"semantic_type\": \"\",\n        \"description\": \"\"\n      }\n    }\n  ]\n}"
            }
          },
          "metadata": {},
          "execution_count": 8
        }
      ]
    },
    {
      "cell_type": "code",
      "source": [
        "# --- quick helper‑presence check ---\n",
        "for fn in [\"reddit_upvotes\", \"google_trends_pop\",\n",
        "           \"tiktok_vid_count\", \"instagram_post_count\",\n",
        "           \"twitter_sentiment\"]:\n",
        "    print(f\"{fn:22} →\", \"OK\" if fn in globals() else \"MISSING\")\n"
      ],
      "metadata": {
        "colab": {
          "base_uri": "https://localhost:8080/"
        },
        "id": "ulHngXBWsaIv",
        "outputId": "d13551e3-6ff0-40fb-f838-2227327902ea"
      },
      "execution_count": 9,
      "outputs": [
        {
          "output_type": "stream",
          "name": "stdout",
          "text": [
            "reddit_upvotes         → MISSING\n",
            "google_trends_pop      → MISSING\n",
            "tiktok_vid_count       → MISSING\n",
            "instagram_post_count   → MISSING\n",
            "twitter_sentiment      → MISSING\n"
          ]
        }
      ]
    },
    {
      "cell_type": "code",
      "source": [
        "# ------------- Step 5 · enrich master_df -------------------\n",
        "import time, numpy as np, pandas as pd\n",
        "\n",
        "# helper list for iteration\n",
        "enrich_cols = [\"reddit_upvotes\", \"google_trends_pop\",\n",
        "               \"tiktok_vid_count\", \"instagram_post_count\",\n",
        "               \"twitter_sentiment\"]\n",
        "\n",
        "# add missing columns as NaN\n",
        "for c in enrich_cols:\n",
        "    if c not in master_df.columns:\n",
        "        master_df[c] = np.nan\n",
        "\n",
        "N = 100            # <-- set to len(master_df) when ready for full run\n",
        "start = master_df[master_df[\"reddit_upvotes\"].isna()].index.min()  # resume\n",
        "end   = min(start + N, len(master_df))\n",
        "\n",
        "print(f\"Enriching rows {start} .. {end-1}\")\n",
        "\n",
        "for i in range(start, end):\n",
        "    row = master_df.loc[i]\n",
        "    tag = row[\"title\"]            # simplistic tag; tweak if desired\n",
        "\n",
        "    master_df.at[i, \"reddit_upvotes\"]      = reddit_upvotes(tag)\n",
        "    master_df.at[i, \"google_trends_pop\"]   = google_trends_pop(tag)\n",
        "    master_df.at[i, \"tiktok_vid_count\"]    = tiktok_vid_count(tag)\n",
        "    master_df.at[i, \"instagram_post_count\"]= instagram_post_count(tag)\n",
        "    master_df.at[i, \"twitter_sentiment\"]   = twitter_sentiment(tag)\n",
        "\n",
        "    if i % 25 == 0:\n",
        "        print(f\"  … processed {i - start + 1}/{N}\")\n",
        "        master_df.to_csv(f\"{ROOT}/output/master_enriched_step5.csv\", index=False)\n",
        "\n",
        "        time.sleep(0.5)   # small pause to respect rate limits\n",
        "\n",
        "print(\"✓ Step 5 partial run finished\")\n",
        "master_df.to_csv(f\"{ROOT}/output/master_enriched_step5.csv\", index=False)\n",
        "master_df.head()\n"
      ],
      "metadata": {
        "colab": {
          "base_uri": "https://localhost:8080/",
          "height": 233
        },
        "id": "Pepjz9mNkaW1",
        "outputId": "c084dd81-f9ee-4b58-fc3d-fe60ac192183"
      },
      "execution_count": 10,
      "outputs": [
        {
          "output_type": "stream",
          "name": "stdout",
          "text": [
            "Enriching rows 0 .. 99\n"
          ]
        },
        {
          "output_type": "error",
          "ename": "NameError",
          "evalue": "name 'reddit_upvotes' is not defined",
          "traceback": [
            "\u001b[0;31m---------------------------------------------------------------------------\u001b[0m",
            "\u001b[0;31mNameError\u001b[0m                                 Traceback (most recent call last)",
            "\u001b[0;32m/tmp/ipython-input-10-2207936341.py\u001b[0m in \u001b[0;36m<cell line: 0>\u001b[0;34m()\u001b[0m\n\u001b[1;32m     22\u001b[0m     \u001b[0mtag\u001b[0m \u001b[0;34m=\u001b[0m \u001b[0mrow\u001b[0m\u001b[0;34m[\u001b[0m\u001b[0;34m\"title\"\u001b[0m\u001b[0;34m]\u001b[0m            \u001b[0;31m# simplistic tag; tweak if desired\u001b[0m\u001b[0;34m\u001b[0m\u001b[0;34m\u001b[0m\u001b[0m\n\u001b[1;32m     23\u001b[0m \u001b[0;34m\u001b[0m\u001b[0m\n\u001b[0;32m---> 24\u001b[0;31m     \u001b[0mmaster_df\u001b[0m\u001b[0;34m.\u001b[0m\u001b[0mat\u001b[0m\u001b[0;34m[\u001b[0m\u001b[0mi\u001b[0m\u001b[0;34m,\u001b[0m \u001b[0;34m\"reddit_upvotes\"\u001b[0m\u001b[0;34m]\u001b[0m      \u001b[0;34m=\u001b[0m \u001b[0mreddit_upvotes\u001b[0m\u001b[0;34m(\u001b[0m\u001b[0mtag\u001b[0m\u001b[0;34m)\u001b[0m\u001b[0;34m\u001b[0m\u001b[0;34m\u001b[0m\u001b[0m\n\u001b[0m\u001b[1;32m     25\u001b[0m     \u001b[0mmaster_df\u001b[0m\u001b[0;34m.\u001b[0m\u001b[0mat\u001b[0m\u001b[0;34m[\u001b[0m\u001b[0mi\u001b[0m\u001b[0;34m,\u001b[0m \u001b[0;34m\"google_trends_pop\"\u001b[0m\u001b[0;34m]\u001b[0m   \u001b[0;34m=\u001b[0m \u001b[0mgoogle_trends_pop\u001b[0m\u001b[0;34m(\u001b[0m\u001b[0mtag\u001b[0m\u001b[0;34m)\u001b[0m\u001b[0;34m\u001b[0m\u001b[0;34m\u001b[0m\u001b[0m\n\u001b[1;32m     26\u001b[0m     \u001b[0mmaster_df\u001b[0m\u001b[0;34m.\u001b[0m\u001b[0mat\u001b[0m\u001b[0;34m[\u001b[0m\u001b[0mi\u001b[0m\u001b[0;34m,\u001b[0m \u001b[0;34m\"tiktok_vid_count\"\u001b[0m\u001b[0;34m]\u001b[0m    \u001b[0;34m=\u001b[0m \u001b[0mtiktok_vid_count\u001b[0m\u001b[0;34m(\u001b[0m\u001b[0mtag\u001b[0m\u001b[0;34m)\u001b[0m\u001b[0;34m\u001b[0m\u001b[0;34m\u001b[0m\u001b[0m\n",
            "\u001b[0;31mNameError\u001b[0m: name 'reddit_upvotes' is not defined"
          ]
        }
      ]
    }
  ]
}